{
  "cells": [
    {
      "cell_type": "markdown",
      "id": "418e407e",
      "metadata": {
        "id": "418e407e"
      },
      "source": [
        "The third edition of *Think Stats* is available now from [Bookshop.org](https://bookshop.org/a/98697/9781098190255) and [Amazon](https://amzn.to/42lmxwu) (those are affiliate links). If you are enjoying the free, online version, consider [buying me a coffee](https://buymeacoffee.com/allendowney)."
      ]
    },
    {
      "cell_type": "markdown",
      "id": "259c89bc",
      "metadata": {
        "id": "259c89bc"
      },
      "source": [
        "# Probability Mass Functions\n",
        "\n",
        "In the previous chapter we represented distributions using a `FreqTab` object, which contains a set of values and their frequencies -- that is, the number of times each value appears.\n",
        "In this chapter we'll introduce another way to describe a distribution, a probability mass function (PMF).\n",
        "\n",
        "To represent a PMF, we'll use an object called a `Pmf`, which contains a set of values and their probabilities.\n",
        "We'll use `Pmf` objects to compute the mean and variance of a distribution, and the skewness, which indicates whether it is skewed to the left or right.\n",
        "Finally, we will explore how a phenomenon called the \"inspection paradox\" can cause a sample to give a biased view of a distribution."
      ]
    },
    {
      "cell_type": "markdown",
      "id": "11b3a5ef",
      "metadata": {
        "tags": [],
        "id": "11b3a5ef"
      },
      "source": [
        "[Click here to run this notebook on Colab](https://colab.research.google.com/github/AllenDowney/ThinkStats/blob/v3/nb/chap03.ipynb)."
      ]
    },
    {
      "cell_type": "code",
      "execution_count": 1,
      "id": "c4578587",
      "metadata": {
        "tags": [],
        "colab": {
          "base_uri": "https://localhost:8080/"
        },
        "id": "c4578587",
        "outputId": "8bde3984-50bf-40dc-d315-f59b61b350b0"
      },
      "outputs": [
        {
          "output_type": "stream",
          "name": "stdout",
          "text": [
            "Downloaded thinkstats.py\n"
          ]
        }
      ],
      "source": [
        "from os.path import basename, exists\n",
        "\n",
        "\n",
        "def download(url):\n",
        "    filename = basename(url)\n",
        "    if not exists(filename):\n",
        "        from urllib.request import urlretrieve\n",
        "\n",
        "        local, _ = urlretrieve(url, filename)\n",
        "        print(\"Downloaded \" + local)\n",
        "\n",
        "\n",
        "download(\"https://github.com/AllenDowney/ThinkStats/raw/v3/nb/thinkstats.py\")"
      ]
    },
    {
      "cell_type": "code",
      "execution_count": 2,
      "id": "f66668e0",
      "metadata": {
        "tags": [],
        "colab": {
          "base_uri": "https://localhost:8080/"
        },
        "id": "f66668e0",
        "outputId": "2ce57cb7-8e22-409d-f148-cb657f752cb4"
      },
      "outputs": [
        {
          "output_type": "stream",
          "name": "stdout",
          "text": [
            "Collecting empiricaldist\n",
            "  Downloading empiricaldist-0.9.0.tar.gz (14 kB)\n",
            "  Installing build dependencies ... \u001b[?25l\u001b[?25hdone\n",
            "  Getting requirements to build wheel ... \u001b[?25l\u001b[?25hdone\n",
            "  Preparing metadata (pyproject.toml) ... \u001b[?25l\u001b[?25hdone\n",
            "Requirement already satisfied: matplotlib in /usr/local/lib/python3.11/dist-packages (from empiricaldist) (3.10.0)\n",
            "Requirement already satisfied: numpy in /usr/local/lib/python3.11/dist-packages (from empiricaldist) (2.0.2)\n",
            "Requirement already satisfied: pandas in /usr/local/lib/python3.11/dist-packages (from empiricaldist) (2.2.2)\n",
            "Requirement already satisfied: scipy in /usr/local/lib/python3.11/dist-packages (from empiricaldist) (1.15.3)\n",
            "Requirement already satisfied: contourpy>=1.0.1 in /usr/local/lib/python3.11/dist-packages (from matplotlib->empiricaldist) (1.3.2)\n",
            "Requirement already satisfied: cycler>=0.10 in /usr/local/lib/python3.11/dist-packages (from matplotlib->empiricaldist) (0.12.1)\n",
            "Requirement already satisfied: fonttools>=4.22.0 in /usr/local/lib/python3.11/dist-packages (from matplotlib->empiricaldist) (4.58.4)\n",
            "Requirement already satisfied: kiwisolver>=1.3.1 in /usr/local/lib/python3.11/dist-packages (from matplotlib->empiricaldist) (1.4.8)\n",
            "Requirement already satisfied: packaging>=20.0 in /usr/local/lib/python3.11/dist-packages (from matplotlib->empiricaldist) (24.2)\n",
            "Requirement already satisfied: pillow>=8 in /usr/local/lib/python3.11/dist-packages (from matplotlib->empiricaldist) (11.2.1)\n",
            "Requirement already satisfied: pyparsing>=2.3.1 in /usr/local/lib/python3.11/dist-packages (from matplotlib->empiricaldist) (3.2.3)\n",
            "Requirement already satisfied: python-dateutil>=2.7 in /usr/local/lib/python3.11/dist-packages (from matplotlib->empiricaldist) (2.9.0.post0)\n",
            "Requirement already satisfied: pytz>=2020.1 in /usr/local/lib/python3.11/dist-packages (from pandas->empiricaldist) (2025.2)\n",
            "Requirement already satisfied: tzdata>=2022.7 in /usr/local/lib/python3.11/dist-packages (from pandas->empiricaldist) (2025.2)\n",
            "Requirement already satisfied: six>=1.5 in /usr/local/lib/python3.11/dist-packages (from python-dateutil>=2.7->matplotlib->empiricaldist) (1.17.0)\n",
            "Building wheels for collected packages: empiricaldist\n",
            "  Building wheel for empiricaldist (pyproject.toml) ... \u001b[?25l\u001b[?25hdone\n",
            "  Created wheel for empiricaldist: filename=empiricaldist-0.9.0-py3-none-any.whl size=14296 sha256=19ba441d18620542d77eda65e0d9373b3a081d0882da398ec803a9e7853118c4\n",
            "  Stored in directory: /root/.cache/pip/wheels/96/04/f1/a934ef1f5f3db621dc39566b2c7de45b8c6916044be6a9c9ac\n",
            "Successfully built empiricaldist\n",
            "Installing collected packages: empiricaldist\n",
            "Successfully installed empiricaldist-0.9.0\n"
          ]
        }
      ],
      "source": [
        "try:\n",
        "    import empiricaldist\n",
        "except ImportError:\n",
        "    %pip install empiricaldist"
      ]
    },
    {
      "cell_type": "code",
      "execution_count": 3,
      "id": "e47f1afd",
      "metadata": {
        "tags": [],
        "id": "e47f1afd"
      },
      "outputs": [],
      "source": [
        "import numpy as np\n",
        "import pandas as pd\n",
        "import matplotlib.pyplot as plt\n",
        "\n",
        "from thinkstats import decorate"
      ]
    },
    {
      "cell_type": "markdown",
      "id": "5f56b6a7",
      "metadata": {
        "id": "5f56b6a7"
      },
      "source": [
        "## PMFs\n",
        "\n",
        "A `Pmf` object is like a `FreqTab` that contains probabilities instead of frequencies.\n",
        "So one way to make a `Pmf` is to start with a `FreqTab`.\n",
        "For example, here's a `FreqTab` that represents the distribution of values in a short sequence."
      ]
    },
    {
      "cell_type": "code",
      "execution_count": 4,
      "id": "8f418fed",
      "metadata": {
        "colab": {
          "base_uri": "https://localhost:8080/",
          "height": 192
        },
        "id": "8f418fed",
        "outputId": "0dccc693-21ab-400a-812c-a521c3d8e67a"
      },
      "outputs": [
        {
          "output_type": "execute_result",
          "data": {
            "text/plain": [
              "1    1\n",
              "2    2\n",
              "3    1\n",
              "5    1\n",
              "Name: , dtype: int64"
            ],
            "text/html": [
              "<div>\n",
              "<style scoped>\n",
              "    .dataframe tbody tr th:only-of-type {\n",
              "        vertical-align: middle;\n",
              "    }\n",
              "\n",
              "    .dataframe tbody tr th {\n",
              "        vertical-align: top;\n",
              "    }\n",
              "\n",
              "    .dataframe thead th {\n",
              "        text-align: right;\n",
              "    }\n",
              "</style>\n",
              "<table border=\"1\" class=\"dataframe\">\n",
              "  <thead>\n",
              "    <tr style=\"text-align: right;\">\n",
              "      <th></th>\n",
              "      <th></th>\n",
              "    </tr>\n",
              "  </thead>\n",
              "  <tbody>\n",
              "    <tr>\n",
              "      <th>1</th>\n",
              "      <td>1</td>\n",
              "    </tr>\n",
              "    <tr>\n",
              "      <th>2</th>\n",
              "      <td>2</td>\n",
              "    </tr>\n",
              "    <tr>\n",
              "      <th>3</th>\n",
              "      <td>1</td>\n",
              "    </tr>\n",
              "    <tr>\n",
              "      <th>5</th>\n",
              "      <td>1</td>\n",
              "    </tr>\n",
              "  </tbody>\n",
              "</table>\n",
              "</div><br><label><b>dtype:</b> int64</label>"
            ]
          },
          "metadata": {},
          "execution_count": 4
        }
      ],
      "source": [
        "from empiricaldist import FreqTab\n",
        "\n",
        "ftab = FreqTab.from_seq([1, 2, 2, 3, 5])\n",
        "ftab"
      ]
    },
    {
      "cell_type": "markdown",
      "id": "f70e8df4",
      "metadata": {
        "id": "f70e8df4"
      },
      "source": [
        "The sum of the frequencies is the size of the original sequence."
      ]
    },
    {
      "cell_type": "code",
      "execution_count": 62,
      "id": "8e1ee1ca",
      "metadata": {
        "colab": {
          "base_uri": "https://localhost:8080/"
        },
        "id": "8e1ee1ca",
        "outputId": "b5447677-9104-433f-9e1d-d7f2871b1209"
      },
      "outputs": [
        {
          "output_type": "execute_result",
          "data": {
            "text/plain": [
              "np.int64(5)"
            ]
          },
          "metadata": {},
          "execution_count": 62
        }
      ],
      "source": [
        "n = ftab.sum()\n",
        "n"
      ]
    },
    {
      "cell_type": "markdown",
      "id": "eeed5af8",
      "metadata": {
        "id": "eeed5af8"
      },
      "source": [
        "If we divide the frequencies by `n`, they represent proportions, rather than counts."
      ]
    },
    {
      "cell_type": "code",
      "execution_count": 6,
      "id": "07dab3d2",
      "metadata": {
        "colab": {
          "base_uri": "https://localhost:8080/",
          "height": 192
        },
        "id": "07dab3d2",
        "outputId": "ea70ea9e-0202-4705-d96f-8ba9ec782313"
      },
      "outputs": [
        {
          "output_type": "execute_result",
          "data": {
            "text/plain": [
              "1    0.2\n",
              "2    0.4\n",
              "3    0.2\n",
              "5    0.2\n",
              "Name: , dtype: float64"
            ],
            "text/html": [
              "<div>\n",
              "<style scoped>\n",
              "    .dataframe tbody tr th:only-of-type {\n",
              "        vertical-align: middle;\n",
              "    }\n",
              "\n",
              "    .dataframe tbody tr th {\n",
              "        vertical-align: top;\n",
              "    }\n",
              "\n",
              "    .dataframe thead th {\n",
              "        text-align: right;\n",
              "    }\n",
              "</style>\n",
              "<table border=\"1\" class=\"dataframe\">\n",
              "  <thead>\n",
              "    <tr style=\"text-align: right;\">\n",
              "      <th></th>\n",
              "      <th></th>\n",
              "    </tr>\n",
              "  </thead>\n",
              "  <tbody>\n",
              "    <tr>\n",
              "      <th>1</th>\n",
              "      <td>0.2</td>\n",
              "    </tr>\n",
              "    <tr>\n",
              "      <th>2</th>\n",
              "      <td>0.4</td>\n",
              "    </tr>\n",
              "    <tr>\n",
              "      <th>3</th>\n",
              "      <td>0.2</td>\n",
              "    </tr>\n",
              "    <tr>\n",
              "      <th>5</th>\n",
              "      <td>0.2</td>\n",
              "    </tr>\n",
              "  </tbody>\n",
              "</table>\n",
              "</div><br><label><b>dtype:</b> float64</label>"
            ]
          },
          "metadata": {},
          "execution_count": 6
        }
      ],
      "source": [
        "pmf = ftab / n\n",
        "pmf"
      ]
    },
    {
      "cell_type": "markdown",
      "id": "1e0a7d3c",
      "metadata": {
        "id": "1e0a7d3c"
      },
      "source": [
        "This result indicates that 20% of the values in the sequence are 1, 40% are 2, and so on.\n",
        "\n",
        "We can also think of these proportions as probabilities in the following sense: if we choose a random value from the original sequence, the probability we choose the value 1 is 0.2, the probability we choose the value 2 is 0.4, and so on.\n",
        "\n",
        "Because we divided through by `n`, the sum of the probabilities is 1, which means that this distribution is **normalized**."
      ]
    },
    {
      "cell_type": "code",
      "execution_count": 7,
      "id": "af296dc9",
      "metadata": {
        "colab": {
          "base_uri": "https://localhost:8080/"
        },
        "id": "af296dc9",
        "outputId": "01d39ace-8a73-4e18-e9c6-ed76bae08449"
      },
      "outputs": [
        {
          "output_type": "execute_result",
          "data": {
            "text/plain": [
              "np.float64(1.0)"
            ]
          },
          "metadata": {},
          "execution_count": 7
        }
      ],
      "source": [
        "pmf.sum()"
      ]
    },
    {
      "cell_type": "markdown",
      "id": "c81d485a",
      "metadata": {
        "id": "c81d485a"
      },
      "source": [
        "A normalized `FreqTab` object represents a **probability mass function** (PMF), so-called because probabilities associated with discrete values are also called \"probability masses\".\n",
        "\n",
        "The `empiricaldist` library provides a `Pmf` object that represents a probability mass function, so instead of creating a `FreqTab` object and then normalizing it, we can create a `Pmf` object directly."
      ]
    },
    {
      "cell_type": "code",
      "execution_count": 8,
      "id": "3fff30ec",
      "metadata": {
        "colab": {
          "base_uri": "https://localhost:8080/",
          "height": 192
        },
        "id": "3fff30ec",
        "outputId": "018ed803-2056-4730-8ec7-092ddfd1723c"
      },
      "outputs": [
        {
          "output_type": "execute_result",
          "data": {
            "text/plain": [
              "1    0.2\n",
              "2    0.4\n",
              "3    0.2\n",
              "5    0.2\n",
              "Name: , dtype: float64"
            ],
            "text/html": [
              "<div>\n",
              "<style scoped>\n",
              "    .dataframe tbody tr th:only-of-type {\n",
              "        vertical-align: middle;\n",
              "    }\n",
              "\n",
              "    .dataframe tbody tr th {\n",
              "        vertical-align: top;\n",
              "    }\n",
              "\n",
              "    .dataframe thead th {\n",
              "        text-align: right;\n",
              "    }\n",
              "</style>\n",
              "<table border=\"1\" class=\"dataframe\">\n",
              "  <thead>\n",
              "    <tr style=\"text-align: right;\">\n",
              "      <th></th>\n",
              "      <th></th>\n",
              "    </tr>\n",
              "  </thead>\n",
              "  <tbody>\n",
              "    <tr>\n",
              "      <th>1</th>\n",
              "      <td>0.2</td>\n",
              "    </tr>\n",
              "    <tr>\n",
              "      <th>2</th>\n",
              "      <td>0.4</td>\n",
              "    </tr>\n",
              "    <tr>\n",
              "      <th>3</th>\n",
              "      <td>0.2</td>\n",
              "    </tr>\n",
              "    <tr>\n",
              "      <th>5</th>\n",
              "      <td>0.2</td>\n",
              "    </tr>\n",
              "  </tbody>\n",
              "</table>\n",
              "</div><br><label><b>dtype:</b> float64</label>"
            ]
          },
          "metadata": {},
          "execution_count": 8
        }
      ],
      "source": [
        "from empiricaldist import Pmf\n",
        "\n",
        "pmf = Pmf.from_seq([1, 2, 2, 3, 5])\n",
        "pmf"
      ]
    },
    {
      "cell_type": "markdown",
      "id": "d8428fe8",
      "metadata": {
        "id": "d8428fe8"
      },
      "source": [
        "The `Pmf` is normalized so the total probability is 1."
      ]
    },
    {
      "cell_type": "code",
      "execution_count": 9,
      "id": "5e01b656",
      "metadata": {
        "colab": {
          "base_uri": "https://localhost:8080/"
        },
        "id": "5e01b656",
        "outputId": "16daed08-9a08-4c48-c15c-214fc8a3f95e"
      },
      "outputs": [
        {
          "output_type": "execute_result",
          "data": {
            "text/plain": [
              "np.float64(1.0)"
            ]
          },
          "metadata": {},
          "execution_count": 9
        }
      ],
      "source": [
        "pmf.sum()"
      ]
    },
    {
      "cell_type": "markdown",
      "id": "4cc44f90",
      "metadata": {
        "id": "4cc44f90"
      },
      "source": [
        "`Pmf` and `FreqTab` objects are similar in many ways.\n",
        "To look up the probability associated with a value, we can use the bracket operator."
      ]
    },
    {
      "cell_type": "code",
      "execution_count": 10,
      "id": "41280992",
      "metadata": {
        "colab": {
          "base_uri": "https://localhost:8080/"
        },
        "id": "41280992",
        "outputId": "c70fa9b1-0736-4177-8351-fa436fb949a1"
      },
      "outputs": [
        {
          "output_type": "execute_result",
          "data": {
            "text/plain": [
              "np.float64(0.4)"
            ]
          },
          "metadata": {},
          "execution_count": 10
        }
      ],
      "source": [
        "pmf[2]"
      ]
    },
    {
      "cell_type": "markdown",
      "id": "ff05014f",
      "metadata": {
        "id": "ff05014f"
      },
      "source": [
        "Or use parentheses to call the `Pmf` like a function."
      ]
    },
    {
      "cell_type": "code",
      "execution_count": 11,
      "id": "2ac2919b",
      "metadata": {
        "colab": {
          "base_uri": "https://localhost:8080/"
        },
        "id": "2ac2919b",
        "outputId": "a71edfe3-aba8-4e05-e80e-190f5ed2b552"
      },
      "outputs": [
        {
          "output_type": "execute_result",
          "data": {
            "text/plain": [
              "np.float64(0.4)"
            ]
          },
          "metadata": {},
          "execution_count": 11
        }
      ],
      "source": [
        "pmf(2)"
      ]
    },
    {
      "cell_type": "markdown",
      "id": "98af6144",
      "metadata": {
        "id": "98af6144"
      },
      "source": [
        "To assign a probability to a value, you have to use the bracket operator."
      ]
    },
    {
      "cell_type": "code",
      "execution_count": 12,
      "id": "b53f5742",
      "metadata": {
        "colab": {
          "base_uri": "https://localhost:8080/"
        },
        "id": "b53f5742",
        "outputId": "c17a1cee-1fb4-4e7d-9abe-bd127fe70230"
      },
      "outputs": [
        {
          "output_type": "execute_result",
          "data": {
            "text/plain": [
              "np.float64(0.2)"
            ]
          },
          "metadata": {},
          "execution_count": 12
        }
      ],
      "source": [
        "pmf[2] = 0.2\n",
        "pmf(2)"
      ]
    },
    {
      "cell_type": "markdown",
      "id": "69db5cfb",
      "metadata": {
        "id": "69db5cfb"
      },
      "source": [
        "You can modify an existing `Pmf` by incrementing the probability associated with a value:"
      ]
    },
    {
      "cell_type": "code",
      "execution_count": 13,
      "id": "25ecc3b0",
      "metadata": {
        "colab": {
          "base_uri": "https://localhost:8080/"
        },
        "id": "25ecc3b0",
        "outputId": "0af47645-a8e9-4246-da6e-cec274a82e0a"
      },
      "outputs": [
        {
          "output_type": "execute_result",
          "data": {
            "text/plain": [
              "np.float64(0.5)"
            ]
          },
          "metadata": {},
          "execution_count": 13
        }
      ],
      "source": [
        "pmf[2] += 0.3\n",
        "pmf[2]"
      ]
    },
    {
      "cell_type": "markdown",
      "id": "b4de74dd",
      "metadata": {
        "id": "b4de74dd"
      },
      "source": [
        "Or you can multiply a probability by a factor:"
      ]
    },
    {
      "cell_type": "code",
      "execution_count": 14,
      "id": "df663bda",
      "metadata": {
        "colab": {
          "base_uri": "https://localhost:8080/"
        },
        "id": "df663bda",
        "outputId": "fde8dfbf-beb5-401a-9520-477a73e9dc5b"
      },
      "outputs": [
        {
          "output_type": "execute_result",
          "data": {
            "text/plain": [
              "np.float64(0.25)"
            ]
          },
          "metadata": {},
          "execution_count": 14
        }
      ],
      "source": [
        "pmf[2] *= 0.5\n",
        "pmf[2]"
      ]
    },
    {
      "cell_type": "markdown",
      "id": "3abe8d9e",
      "metadata": {
        "id": "3abe8d9e"
      },
      "source": [
        "If you modify a `Pmf`, the result may not be normalized -- that is, the probabilities may no longer add up to 1."
      ]
    },
    {
      "cell_type": "code",
      "execution_count": 15,
      "id": "864a09be",
      "metadata": {
        "colab": {
          "base_uri": "https://localhost:8080/"
        },
        "id": "864a09be",
        "outputId": "d8f823dd-2303-461a-d880-0795a032e87a"
      },
      "outputs": [
        {
          "output_type": "execute_result",
          "data": {
            "text/plain": [
              "np.float64(0.8500000000000001)"
            ]
          },
          "metadata": {},
          "execution_count": 15
        }
      ],
      "source": [
        "pmf.sum()"
      ]
    },
    {
      "cell_type": "markdown",
      "id": "bce848f1",
      "metadata": {
        "id": "bce848f1"
      },
      "source": [
        "The `normalize` method renormalizes the `Pmf` by dividing through by the sum -- and returning the sum."
      ]
    },
    {
      "cell_type": "code",
      "execution_count": 16,
      "id": "a06845d8",
      "metadata": {
        "colab": {
          "base_uri": "https://localhost:8080/"
        },
        "id": "a06845d8",
        "outputId": "7b7ef2b3-3278-4f0b-c4ba-e9086037749f"
      },
      "outputs": [
        {
          "output_type": "execute_result",
          "data": {
            "text/plain": [
              "np.float64(0.8500000000000001)"
            ]
          },
          "metadata": {},
          "execution_count": 16
        }
      ],
      "source": [
        "pmf.normalize()"
      ]
    },
    {
      "cell_type": "markdown",
      "id": "4ae297e6",
      "metadata": {
        "id": "4ae297e6"
      },
      "source": [
        "`Pmf` objects provide a `copy` method so you can make and modify a copy without affecting the original."
      ]
    },
    {
      "cell_type": "code",
      "execution_count": 17,
      "id": "7738244e",
      "metadata": {
        "colab": {
          "base_uri": "https://localhost:8080/",
          "height": 192
        },
        "id": "7738244e",
        "outputId": "bffd4f61-0adc-4749-cc3a-d13d4dd6a08c"
      },
      "outputs": [
        {
          "output_type": "execute_result",
          "data": {
            "text/plain": [
              "1    0.235294\n",
              "2    0.294118\n",
              "3    0.235294\n",
              "5    0.235294\n",
              "Name: , dtype: float64"
            ],
            "text/html": [
              "<div>\n",
              "<style scoped>\n",
              "    .dataframe tbody tr th:only-of-type {\n",
              "        vertical-align: middle;\n",
              "    }\n",
              "\n",
              "    .dataframe tbody tr th {\n",
              "        vertical-align: top;\n",
              "    }\n",
              "\n",
              "    .dataframe thead th {\n",
              "        text-align: right;\n",
              "    }\n",
              "</style>\n",
              "<table border=\"1\" class=\"dataframe\">\n",
              "  <thead>\n",
              "    <tr style=\"text-align: right;\">\n",
              "      <th></th>\n",
              "      <th></th>\n",
              "    </tr>\n",
              "  </thead>\n",
              "  <tbody>\n",
              "    <tr>\n",
              "      <th>1</th>\n",
              "      <td>0.235294</td>\n",
              "    </tr>\n",
              "    <tr>\n",
              "      <th>2</th>\n",
              "      <td>0.294118</td>\n",
              "    </tr>\n",
              "    <tr>\n",
              "      <th>3</th>\n",
              "      <td>0.235294</td>\n",
              "    </tr>\n",
              "    <tr>\n",
              "      <th>5</th>\n",
              "      <td>0.235294</td>\n",
              "    </tr>\n",
              "  </tbody>\n",
              "</table>\n",
              "</div><br><label><b>dtype:</b> float64</label>"
            ]
          },
          "metadata": {},
          "execution_count": 17
        }
      ],
      "source": [
        "pmf.copy()"
      ]
    },
    {
      "cell_type": "markdown",
      "id": "94f5f531",
      "metadata": {
        "id": "94f5f531"
      },
      "source": [
        "Like a `FreqTab` object, a `Pmf` object has a `qs` attribute that accesses the quantities and a `ps` attribute that accesses the probabilities.\n",
        "\n",
        "It also has a `bar` method that plots the `Pmf` as a bar graph and a `plot` method that plots it as a line graph."
      ]
    },
    {
      "cell_type": "markdown",
      "id": "3e77da45",
      "metadata": {
        "tags": [],
        "id": "3e77da45"
      },
      "source": [
        "(section_summarizing_pmfs)=\n",
        "## Summarizing a PMF\n",
        "\n",
        "In [Chapter 1](section_summary_statistics) we computed the mean of a sample by adding up the elements and dividing by the number of elements.\n",
        "Here's a simple example."
      ]
    },
    {
      "cell_type": "code",
      "execution_count": 18,
      "id": "07579612",
      "metadata": {
        "colab": {
          "base_uri": "https://localhost:8080/"
        },
        "id": "07579612",
        "outputId": "ea3c7c29-3661-41ce-d638-1a02feddf131"
      },
      "outputs": [
        {
          "output_type": "execute_result",
          "data": {
            "text/plain": [
              "np.float64(2.6)"
            ]
          },
          "metadata": {},
          "execution_count": 18
        }
      ],
      "source": [
        "seq = [1, 2, 2, 3, 5]\n",
        "\n",
        "n = len(seq)\n",
        "mean = np.sum(seq) / n\n",
        "mean"
      ]
    },
    {
      "cell_type": "markdown",
      "id": "7ca46b48",
      "metadata": {
        "id": "7ca46b48"
      },
      "source": [
        "Now suppose we compute the PMF of the values in the sequence."
      ]
    },
    {
      "cell_type": "code",
      "execution_count": 63,
      "id": "fa1ca2c9",
      "metadata": {
        "colab": {
          "base_uri": "https://localhost:8080/",
          "height": 192
        },
        "id": "fa1ca2c9",
        "outputId": "be68ebcc-b557-42d0-be41-ea41a6bdc228"
      },
      "outputs": [
        {
          "output_type": "execute_result",
          "data": {
            "text/plain": [
              "1    0.2\n",
              "2    0.4\n",
              "3    0.2\n",
              "5    0.2\n",
              "Name: , dtype: float64"
            ],
            "text/html": [
              "<div>\n",
              "<style scoped>\n",
              "    .dataframe tbody tr th:only-of-type {\n",
              "        vertical-align: middle;\n",
              "    }\n",
              "\n",
              "    .dataframe tbody tr th {\n",
              "        vertical-align: top;\n",
              "    }\n",
              "\n",
              "    .dataframe thead th {\n",
              "        text-align: right;\n",
              "    }\n",
              "</style>\n",
              "<table border=\"1\" class=\"dataframe\">\n",
              "  <thead>\n",
              "    <tr style=\"text-align: right;\">\n",
              "      <th></th>\n",
              "      <th></th>\n",
              "    </tr>\n",
              "  </thead>\n",
              "  <tbody>\n",
              "    <tr>\n",
              "      <th>1</th>\n",
              "      <td>0.2</td>\n",
              "    </tr>\n",
              "    <tr>\n",
              "      <th>2</th>\n",
              "      <td>0.4</td>\n",
              "    </tr>\n",
              "    <tr>\n",
              "      <th>3</th>\n",
              "      <td>0.2</td>\n",
              "    </tr>\n",
              "    <tr>\n",
              "      <th>5</th>\n",
              "      <td>0.2</td>\n",
              "    </tr>\n",
              "  </tbody>\n",
              "</table>\n",
              "</div><br><label><b>dtype:</b> float64</label>"
            ]
          },
          "metadata": {},
          "execution_count": 63
        }
      ],
      "source": [
        "pmf = Pmf.from_seq(seq)\n",
        "pmf"
      ]
    },
    {
      "cell_type": "markdown",
      "id": "ea4a034d",
      "metadata": {
        "id": "ea4a034d"
      },
      "source": [
        "Given the `Pmf`, we can still compute the mean, but the process is different -- we have to multiply the probabilities and quantities and add up the products."
      ]
    },
    {
      "cell_type": "code",
      "execution_count": 64,
      "id": "f73de148",
      "metadata": {
        "colab": {
          "base_uri": "https://localhost:8080/"
        },
        "id": "f73de148",
        "outputId": "a2b09b6c-0834-4c0b-b04f-f055037d3b12"
      },
      "outputs": [
        {
          "output_type": "stream",
          "name": "stdout",
          "text": [
            "pick up here\n"
          ]
        }
      ],
      "source": [
        "mean = np.sum(pmf.ps * pmf.qs)\n",
        "mean\n",
        "print(\"pick up here\")"
      ]
    },
    {
      "cell_type": "markdown",
      "id": "b7913b14",
      "metadata": {
        "id": "b7913b14"
      },
      "source": [
        "Notice that we *don't* have to divide by `n`, because we already did that when we normalized the `Pmf`.\n",
        "`Pmf` objects have a `mean` method that does the same thing."
      ]
    },
    {
      "cell_type": "code",
      "execution_count": 21,
      "id": "b7a352d8",
      "metadata": {
        "colab": {
          "base_uri": "https://localhost:8080/"
        },
        "id": "b7a352d8",
        "outputId": "0a6ecb68-ddd2-496a-c2a0-3b73abb30c83"
      },
      "outputs": [
        {
          "output_type": "execute_result",
          "data": {
            "text/plain": [
              "np.float64(2.6)"
            ]
          },
          "metadata": {},
          "execution_count": 21
        }
      ],
      "source": [
        "pmf.mean()"
      ]
    },
    {
      "cell_type": "markdown",
      "id": "444f74bd",
      "metadata": {
        "id": "444f74bd"
      },
      "source": [
        "Given a `Pmf`, we can compute the variance by computing the deviation of each quantity from the mean."
      ]
    },
    {
      "cell_type": "code",
      "execution_count": 22,
      "id": "06ecd356",
      "metadata": {
        "id": "06ecd356"
      },
      "outputs": [],
      "source": [
        "deviations = pmf.qs - mean"
      ]
    },
    {
      "cell_type": "markdown",
      "id": "b4a01857",
      "metadata": {
        "id": "b4a01857"
      },
      "source": [
        "Then we multiply the squared deviations by the probabilities and add up the products."
      ]
    },
    {
      "cell_type": "code",
      "execution_count": 23,
      "id": "bd600815",
      "metadata": {
        "colab": {
          "base_uri": "https://localhost:8080/"
        },
        "id": "bd600815",
        "outputId": "6423a640-926d-4956-b3cd-1070ed9d22a9"
      },
      "outputs": [
        {
          "output_type": "execute_result",
          "data": {
            "text/plain": [
              "np.float64(1.84)"
            ]
          },
          "metadata": {},
          "execution_count": 23
        }
      ],
      "source": [
        "var = np.sum(pmf.ps * deviations**2)\n",
        "var"
      ]
    },
    {
      "cell_type": "markdown",
      "id": "f8a9a9b6",
      "metadata": {
        "id": "f8a9a9b6"
      },
      "source": [
        "The `var` method does the same thing."
      ]
    },
    {
      "cell_type": "code",
      "execution_count": 24,
      "id": "a220d0e6",
      "metadata": {
        "colab": {
          "base_uri": "https://localhost:8080/"
        },
        "id": "a220d0e6",
        "outputId": "d25c9acc-9ebf-4eae-e82b-a3f1fc72de97"
      },
      "outputs": [
        {
          "output_type": "execute_result",
          "data": {
            "text/plain": [
              "np.float64(1.84)"
            ]
          },
          "metadata": {},
          "execution_count": 24
        }
      ],
      "source": [
        "pmf.var()"
      ]
    },
    {
      "cell_type": "markdown",
      "id": "9a1c2c57",
      "metadata": {
        "id": "9a1c2c57"
      },
      "source": [
        "From the variance, we can compute the standard deviation in the usual way."
      ]
    },
    {
      "cell_type": "code",
      "execution_count": 25,
      "id": "5e152cda",
      "metadata": {
        "colab": {
          "base_uri": "https://localhost:8080/"
        },
        "id": "5e152cda",
        "outputId": "e6ca9f9a-8d50-4ed0-ce61-48b893ecaa8c"
      },
      "outputs": [
        {
          "output_type": "execute_result",
          "data": {
            "text/plain": [
              "np.float64(1.3564659966250536)"
            ]
          },
          "metadata": {},
          "execution_count": 25
        }
      ],
      "source": [
        "np.sqrt(var)"
      ]
    },
    {
      "cell_type": "markdown",
      "id": "f2accd22",
      "metadata": {
        "id": "f2accd22"
      },
      "source": [
        "Or the `std` method does the same thing."
      ]
    },
    {
      "cell_type": "code",
      "execution_count": 26,
      "id": "e7557612",
      "metadata": {
        "colab": {
          "base_uri": "https://localhost:8080/"
        },
        "id": "e7557612",
        "outputId": "8f467434-a406-41b6-ebfb-5adceec0cadd"
      },
      "outputs": [
        {
          "output_type": "execute_result",
          "data": {
            "text/plain": [
              "np.float64(1.3564659966250536)"
            ]
          },
          "metadata": {},
          "execution_count": 26
        }
      ],
      "source": [
        "pmf.std()"
      ]
    },
    {
      "cell_type": "markdown",
      "id": "6645531f",
      "metadata": {
        "id": "6645531f"
      },
      "source": [
        "`Pmf` also provides a `mode` method that finds the value with the highest probability."
      ]
    },
    {
      "cell_type": "code",
      "execution_count": 27,
      "id": "19405109",
      "metadata": {
        "colab": {
          "base_uri": "https://localhost:8080/"
        },
        "id": "19405109",
        "outputId": "1e13f1ba-73ad-4a65-a9ce-9db7b39dc507"
      },
      "outputs": [
        {
          "output_type": "execute_result",
          "data": {
            "text/plain": [
              "np.int64(2)"
            ]
          },
          "metadata": {},
          "execution_count": 27
        }
      ],
      "source": [
        "pmf.mode()"
      ]
    },
    {
      "cell_type": "markdown",
      "id": "e68a7efd",
      "metadata": {
        "id": "e68a7efd"
      },
      "source": [
        "We'll see more methods as we go along, but that's enough to get started."
      ]
    },
    {
      "cell_type": "markdown",
      "id": "51fc69ca",
      "metadata": {
        "id": "51fc69ca"
      },
      "source": [
        "## The Class Size Paradox\n",
        "\n",
        "As an example of what we can do with `Pmf` objects, let's consider a phenomenon I call \"the class size paradox.\"\n",
        "\n",
        "At many American colleges and universities, the student-to-faculty ratio is about 10:1.\n",
        "But students are often surprised that many of their classes have more than 10 students, sometimes a lot more. There are two reasons for the discrepancy:\n",
        "\n",
        "-   Students typically take 4 or 5 classes per semester, but professors often teach 1 or 2.\n",
        "\n",
        "-   The number of students in a small class is small, and the number of students in a large class is large.\n",
        "\n",
        "The first effect is obvious, at least once it is pointed out; the second is more subtle.\n",
        "Let's look at an example.\n",
        "Suppose that a college offers 65 classes in a given semester, and we are given the number of classes in each of the following size ranges."
      ]
    },
    {
      "cell_type": "code",
      "execution_count": 28,
      "id": "36fa48bc",
      "metadata": {
        "colab": {
          "base_uri": "https://localhost:8080/",
          "height": 363
        },
        "id": "36fa48bc",
        "outputId": "c111473a-40bd-405b-c4b2-bce477db8831"
      },
      "outputs": [
        {
          "output_type": "execute_result",
          "data": {
            "text/plain": [
              "            count\n",
              "class size       \n",
              "[5, 10)         8\n",
              "[10, 15)        8\n",
              "[15, 20)       14\n",
              "[20, 25)        4\n",
              "[25, 30)        6\n",
              "[30, 35)       12\n",
              "[35, 40)        8\n",
              "[40, 45)        3\n",
              "[45, 50)        2"
            ],
            "text/html": [
              "\n",
              "  <div id=\"df-e4f66c59-defd-4a4c-988b-ce376974771d\" class=\"colab-df-container\">\n",
              "    <div>\n",
              "<style scoped>\n",
              "    .dataframe tbody tr th:only-of-type {\n",
              "        vertical-align: middle;\n",
              "    }\n",
              "\n",
              "    .dataframe tbody tr th {\n",
              "        vertical-align: top;\n",
              "    }\n",
              "\n",
              "    .dataframe thead th {\n",
              "        text-align: right;\n",
              "    }\n",
              "</style>\n",
              "<table border=\"1\" class=\"dataframe\">\n",
              "  <thead>\n",
              "    <tr style=\"text-align: right;\">\n",
              "      <th></th>\n",
              "      <th>count</th>\n",
              "    </tr>\n",
              "    <tr>\n",
              "      <th>class size</th>\n",
              "      <th></th>\n",
              "    </tr>\n",
              "  </thead>\n",
              "  <tbody>\n",
              "    <tr>\n",
              "      <th>[5, 10)</th>\n",
              "      <td>8</td>\n",
              "    </tr>\n",
              "    <tr>\n",
              "      <th>[10, 15)</th>\n",
              "      <td>8</td>\n",
              "    </tr>\n",
              "    <tr>\n",
              "      <th>[15, 20)</th>\n",
              "      <td>14</td>\n",
              "    </tr>\n",
              "    <tr>\n",
              "      <th>[20, 25)</th>\n",
              "      <td>4</td>\n",
              "    </tr>\n",
              "    <tr>\n",
              "      <th>[25, 30)</th>\n",
              "      <td>6</td>\n",
              "    </tr>\n",
              "    <tr>\n",
              "      <th>[30, 35)</th>\n",
              "      <td>12</td>\n",
              "    </tr>\n",
              "    <tr>\n",
              "      <th>[35, 40)</th>\n",
              "      <td>8</td>\n",
              "    </tr>\n",
              "    <tr>\n",
              "      <th>[40, 45)</th>\n",
              "      <td>3</td>\n",
              "    </tr>\n",
              "    <tr>\n",
              "      <th>[45, 50)</th>\n",
              "      <td>2</td>\n",
              "    </tr>\n",
              "  </tbody>\n",
              "</table>\n",
              "</div>\n",
              "    <div class=\"colab-df-buttons\">\n",
              "\n",
              "  <div class=\"colab-df-container\">\n",
              "    <button class=\"colab-df-convert\" onclick=\"convertToInteractive('df-e4f66c59-defd-4a4c-988b-ce376974771d')\"\n",
              "            title=\"Convert this dataframe to an interactive table.\"\n",
              "            style=\"display:none;\">\n",
              "\n",
              "  <svg xmlns=\"http://www.w3.org/2000/svg\" height=\"24px\" viewBox=\"0 -960 960 960\">\n",
              "    <path d=\"M120-120v-720h720v720H120Zm60-500h600v-160H180v160Zm220 220h160v-160H400v160Zm0 220h160v-160H400v160ZM180-400h160v-160H180v160Zm440 0h160v-160H620v160ZM180-180h160v-160H180v160Zm440 0h160v-160H620v160Z\"/>\n",
              "  </svg>\n",
              "    </button>\n",
              "\n",
              "  <style>\n",
              "    .colab-df-container {\n",
              "      display:flex;\n",
              "      gap: 12px;\n",
              "    }\n",
              "\n",
              "    .colab-df-convert {\n",
              "      background-color: #E8F0FE;\n",
              "      border: none;\n",
              "      border-radius: 50%;\n",
              "      cursor: pointer;\n",
              "      display: none;\n",
              "      fill: #1967D2;\n",
              "      height: 32px;\n",
              "      padding: 0 0 0 0;\n",
              "      width: 32px;\n",
              "    }\n",
              "\n",
              "    .colab-df-convert:hover {\n",
              "      background-color: #E2EBFA;\n",
              "      box-shadow: 0px 1px 2px rgba(60, 64, 67, 0.3), 0px 1px 3px 1px rgba(60, 64, 67, 0.15);\n",
              "      fill: #174EA6;\n",
              "    }\n",
              "\n",
              "    .colab-df-buttons div {\n",
              "      margin-bottom: 4px;\n",
              "    }\n",
              "\n",
              "    [theme=dark] .colab-df-convert {\n",
              "      background-color: #3B4455;\n",
              "      fill: #D2E3FC;\n",
              "    }\n",
              "\n",
              "    [theme=dark] .colab-df-convert:hover {\n",
              "      background-color: #434B5C;\n",
              "      box-shadow: 0px 1px 3px 1px rgba(0, 0, 0, 0.15);\n",
              "      filter: drop-shadow(0px 1px 2px rgba(0, 0, 0, 0.3));\n",
              "      fill: #FFFFFF;\n",
              "    }\n",
              "  </style>\n",
              "\n",
              "    <script>\n",
              "      const buttonEl =\n",
              "        document.querySelector('#df-e4f66c59-defd-4a4c-988b-ce376974771d button.colab-df-convert');\n",
              "      buttonEl.style.display =\n",
              "        google.colab.kernel.accessAllowed ? 'block' : 'none';\n",
              "\n",
              "      async function convertToInteractive(key) {\n",
              "        const element = document.querySelector('#df-e4f66c59-defd-4a4c-988b-ce376974771d');\n",
              "        const dataTable =\n",
              "          await google.colab.kernel.invokeFunction('convertToInteractive',\n",
              "                                                    [key], {});\n",
              "        if (!dataTable) return;\n",
              "\n",
              "        const docLinkHtml = 'Like what you see? Visit the ' +\n",
              "          '<a target=\"_blank\" href=https://colab.research.google.com/notebooks/data_table.ipynb>data table notebook</a>'\n",
              "          + ' to learn more about interactive tables.';\n",
              "        element.innerHTML = '';\n",
              "        dataTable['output_type'] = 'display_data';\n",
              "        await google.colab.output.renderOutput(dataTable, element);\n",
              "        const docLink = document.createElement('div');\n",
              "        docLink.innerHTML = docLinkHtml;\n",
              "        element.appendChild(docLink);\n",
              "      }\n",
              "    </script>\n",
              "  </div>\n",
              "\n",
              "\n",
              "    <div id=\"df-f0e2fd1d-f78f-41f9-b7ce-3ad1be67dec4\">\n",
              "      <button class=\"colab-df-quickchart\" onclick=\"quickchart('df-f0e2fd1d-f78f-41f9-b7ce-3ad1be67dec4')\"\n",
              "                title=\"Suggest charts\"\n",
              "                style=\"display:none;\">\n",
              "\n",
              "<svg xmlns=\"http://www.w3.org/2000/svg\" height=\"24px\"viewBox=\"0 0 24 24\"\n",
              "     width=\"24px\">\n",
              "    <g>\n",
              "        <path d=\"M19 3H5c-1.1 0-2 .9-2 2v14c0 1.1.9 2 2 2h14c1.1 0 2-.9 2-2V5c0-1.1-.9-2-2-2zM9 17H7v-7h2v7zm4 0h-2V7h2v10zm4 0h-2v-4h2v4z\"/>\n",
              "    </g>\n",
              "</svg>\n",
              "      </button>\n",
              "\n",
              "<style>\n",
              "  .colab-df-quickchart {\n",
              "      --bg-color: #E8F0FE;\n",
              "      --fill-color: #1967D2;\n",
              "      --hover-bg-color: #E2EBFA;\n",
              "      --hover-fill-color: #174EA6;\n",
              "      --disabled-fill-color: #AAA;\n",
              "      --disabled-bg-color: #DDD;\n",
              "  }\n",
              "\n",
              "  [theme=dark] .colab-df-quickchart {\n",
              "      --bg-color: #3B4455;\n",
              "      --fill-color: #D2E3FC;\n",
              "      --hover-bg-color: #434B5C;\n",
              "      --hover-fill-color: #FFFFFF;\n",
              "      --disabled-bg-color: #3B4455;\n",
              "      --disabled-fill-color: #666;\n",
              "  }\n",
              "\n",
              "  .colab-df-quickchart {\n",
              "    background-color: var(--bg-color);\n",
              "    border: none;\n",
              "    border-radius: 50%;\n",
              "    cursor: pointer;\n",
              "    display: none;\n",
              "    fill: var(--fill-color);\n",
              "    height: 32px;\n",
              "    padding: 0;\n",
              "    width: 32px;\n",
              "  }\n",
              "\n",
              "  .colab-df-quickchart:hover {\n",
              "    background-color: var(--hover-bg-color);\n",
              "    box-shadow: 0 1px 2px rgba(60, 64, 67, 0.3), 0 1px 3px 1px rgba(60, 64, 67, 0.15);\n",
              "    fill: var(--button-hover-fill-color);\n",
              "  }\n",
              "\n",
              "  .colab-df-quickchart-complete:disabled,\n",
              "  .colab-df-quickchart-complete:disabled:hover {\n",
              "    background-color: var(--disabled-bg-color);\n",
              "    fill: var(--disabled-fill-color);\n",
              "    box-shadow: none;\n",
              "  }\n",
              "\n",
              "  .colab-df-spinner {\n",
              "    border: 2px solid var(--fill-color);\n",
              "    border-color: transparent;\n",
              "    border-bottom-color: var(--fill-color);\n",
              "    animation:\n",
              "      spin 1s steps(1) infinite;\n",
              "  }\n",
              "\n",
              "  @keyframes spin {\n",
              "    0% {\n",
              "      border-color: transparent;\n",
              "      border-bottom-color: var(--fill-color);\n",
              "      border-left-color: var(--fill-color);\n",
              "    }\n",
              "    20% {\n",
              "      border-color: transparent;\n",
              "      border-left-color: var(--fill-color);\n",
              "      border-top-color: var(--fill-color);\n",
              "    }\n",
              "    30% {\n",
              "      border-color: transparent;\n",
              "      border-left-color: var(--fill-color);\n",
              "      border-top-color: var(--fill-color);\n",
              "      border-right-color: var(--fill-color);\n",
              "    }\n",
              "    40% {\n",
              "      border-color: transparent;\n",
              "      border-right-color: var(--fill-color);\n",
              "      border-top-color: var(--fill-color);\n",
              "    }\n",
              "    60% {\n",
              "      border-color: transparent;\n",
              "      border-right-color: var(--fill-color);\n",
              "    }\n",
              "    80% {\n",
              "      border-color: transparent;\n",
              "      border-right-color: var(--fill-color);\n",
              "      border-bottom-color: var(--fill-color);\n",
              "    }\n",
              "    90% {\n",
              "      border-color: transparent;\n",
              "      border-bottom-color: var(--fill-color);\n",
              "    }\n",
              "  }\n",
              "</style>\n",
              "\n",
              "      <script>\n",
              "        async function quickchart(key) {\n",
              "          const quickchartButtonEl =\n",
              "            document.querySelector('#' + key + ' button');\n",
              "          quickchartButtonEl.disabled = true;  // To prevent multiple clicks.\n",
              "          quickchartButtonEl.classList.add('colab-df-spinner');\n",
              "          try {\n",
              "            const charts = await google.colab.kernel.invokeFunction(\n",
              "                'suggestCharts', [key], {});\n",
              "          } catch (error) {\n",
              "            console.error('Error during call to suggestCharts:', error);\n",
              "          }\n",
              "          quickchartButtonEl.classList.remove('colab-df-spinner');\n",
              "          quickchartButtonEl.classList.add('colab-df-quickchart-complete');\n",
              "        }\n",
              "        (() => {\n",
              "          let quickchartButtonEl =\n",
              "            document.querySelector('#df-f0e2fd1d-f78f-41f9-b7ce-3ad1be67dec4 button');\n",
              "          quickchartButtonEl.style.display =\n",
              "            google.colab.kernel.accessAllowed ? 'block' : 'none';\n",
              "        })();\n",
              "      </script>\n",
              "    </div>\n",
              "\n",
              "  <div id=\"id_eb1eff07-3dc4-4a22-abb9-f36152e3d778\">\n",
              "    <style>\n",
              "      .colab-df-generate {\n",
              "        background-color: #E8F0FE;\n",
              "        border: none;\n",
              "        border-radius: 50%;\n",
              "        cursor: pointer;\n",
              "        display: none;\n",
              "        fill: #1967D2;\n",
              "        height: 32px;\n",
              "        padding: 0 0 0 0;\n",
              "        width: 32px;\n",
              "      }\n",
              "\n",
              "      .colab-df-generate:hover {\n",
              "        background-color: #E2EBFA;\n",
              "        box-shadow: 0px 1px 2px rgba(60, 64, 67, 0.3), 0px 1px 3px 1px rgba(60, 64, 67, 0.15);\n",
              "        fill: #174EA6;\n",
              "      }\n",
              "\n",
              "      [theme=dark] .colab-df-generate {\n",
              "        background-color: #3B4455;\n",
              "        fill: #D2E3FC;\n",
              "      }\n",
              "\n",
              "      [theme=dark] .colab-df-generate:hover {\n",
              "        background-color: #434B5C;\n",
              "        box-shadow: 0px 1px 3px 1px rgba(0, 0, 0, 0.15);\n",
              "        filter: drop-shadow(0px 1px 2px rgba(0, 0, 0, 0.3));\n",
              "        fill: #FFFFFF;\n",
              "      }\n",
              "    </style>\n",
              "    <button class=\"colab-df-generate\" onclick=\"generateWithVariable('data')\"\n",
              "            title=\"Generate code using this dataframe.\"\n",
              "            style=\"display:none;\">\n",
              "\n",
              "  <svg xmlns=\"http://www.w3.org/2000/svg\" height=\"24px\"viewBox=\"0 0 24 24\"\n",
              "       width=\"24px\">\n",
              "    <path d=\"M7,19H8.4L18.45,9,17,7.55,7,17.6ZM5,21V16.75L18.45,3.32a2,2,0,0,1,2.83,0l1.4,1.43a1.91,1.91,0,0,1,.58,1.4,1.91,1.91,0,0,1-.58,1.4L9.25,21ZM18.45,9,17,7.55Zm-12,3A5.31,5.31,0,0,0,4.9,8.1,5.31,5.31,0,0,0,1,6.5,5.31,5.31,0,0,0,4.9,4.9,5.31,5.31,0,0,0,6.5,1,5.31,5.31,0,0,0,8.1,4.9,5.31,5.31,0,0,0,12,6.5,5.46,5.46,0,0,0,6.5,12Z\"/>\n",
              "  </svg>\n",
              "    </button>\n",
              "    <script>\n",
              "      (() => {\n",
              "      const buttonEl =\n",
              "        document.querySelector('#id_eb1eff07-3dc4-4a22-abb9-f36152e3d778 button.colab-df-generate');\n",
              "      buttonEl.style.display =\n",
              "        google.colab.kernel.accessAllowed ? 'block' : 'none';\n",
              "\n",
              "      buttonEl.onclick = () => {\n",
              "        google.colab.notebook.generateWithVariable('data');\n",
              "      }\n",
              "      })();\n",
              "    </script>\n",
              "  </div>\n",
              "\n",
              "    </div>\n",
              "  </div>\n"
            ],
            "application/vnd.google.colaboratory.intrinsic+json": {
              "type": "dataframe",
              "variable_name": "data",
              "summary": "{\n  \"name\": \"data\",\n  \"rows\": 9,\n  \"fields\": [\n    {\n      \"column\": \"class size\",\n      \"properties\": {\n        \"dtype\": \"interval[int64, left]\",\n        \"num_unique_values\": 9,\n        \"samples\": [\n          \"[40, 45)\",\n          \"[10, 15)\",\n          \"[30, 35)\"\n        ],\n        \"semantic_type\": \"\",\n        \"description\": \"\"\n      }\n    },\n    {\n      \"column\": \"count\",\n      \"properties\": {\n        \"dtype\": \"number\",\n        \"std\": 3,\n        \"min\": 2,\n        \"max\": 14,\n        \"num_unique_values\": 7,\n        \"samples\": [\n          8,\n          14,\n          3\n        ],\n        \"semantic_type\": \"\",\n        \"description\": \"\"\n      }\n    }\n  ]\n}"
            }
          },
          "metadata": {},
          "execution_count": 28
        }
      ],
      "source": [
        "ranges = pd.interval_range(start=5, end=50, freq=5, closed=\"left\")\n",
        "ranges.name = \"class size\"\n",
        "\n",
        "data = pd.DataFrame(index=ranges)\n",
        "data[\"count\"] = [8, 8, 14, 4, 6, 12, 8, 3, 2]\n",
        "data"
      ]
    },
    {
      "cell_type": "markdown",
      "id": "2e43baa6",
      "metadata": {
        "id": "2e43baa6"
      },
      "source": [
        "The Pandas function `interval_range` makes an `Index` where each label represents a range of values.\n",
        "The notation `[5, 10)` means that `5` is included in the interval and `10` is not.\n",
        "Since we don't know the sizes of the classes in each interval, let's assume that all sizes are at the midpoint of the range."
      ]
    },
    {
      "cell_type": "code",
      "execution_count": 29,
      "id": "36f208f9",
      "metadata": {
        "colab": {
          "base_uri": "https://localhost:8080/"
        },
        "id": "36f208f9",
        "outputId": "437a710e-d5b3-4610-8044-e974af154df1"
      },
      "outputs": [
        {
          "output_type": "execute_result",
          "data": {
            "text/plain": [
              "Index([7, 12, 17, 22, 27, 32, 37, 42, 47], dtype='int64')"
            ]
          },
          "metadata": {},
          "execution_count": 29
        }
      ],
      "source": [
        "sizes = ranges.left + 2\n",
        "sizes"
      ]
    },
    {
      "cell_type": "markdown",
      "id": "7551d814",
      "metadata": {
        "id": "7551d814"
      },
      "source": [
        "Now let's make a `Pmf` that represents the distribution of class sizes.\n",
        "Because we know the sizes and their frequencies, we can create a `Pmf` directly, passing as arguments the counts, sizes, and a name.\n",
        "When we normalize the new `Pmf`, the result is the sum of the counts."
      ]
    },
    {
      "cell_type": "code",
      "execution_count": 30,
      "id": "c1db28bc",
      "metadata": {
        "colab": {
          "base_uri": "https://localhost:8080/"
        },
        "id": "c1db28bc",
        "outputId": "6b31d010-18e3-4949-8b35-085122560e79"
      },
      "outputs": [
        {
          "output_type": "execute_result",
          "data": {
            "text/plain": [
              "np.int64(65)"
            ]
          },
          "metadata": {},
          "execution_count": 30
        }
      ],
      "source": [
        "counts = data[\"count\"]\n",
        "actual_pmf = Pmf(counts, sizes, name=\"actual\")\n",
        "actual_pmf.normalize()"
      ]
    },
    {
      "cell_type": "markdown",
      "id": "ca39aa3a",
      "metadata": {
        "id": "ca39aa3a"
      },
      "source": [
        "If you ask the college for the average class size, they report the mean of this distribution, which is 23.7."
      ]
    },
    {
      "cell_type": "code",
      "execution_count": 31,
      "id": "6f8eb2c2",
      "metadata": {
        "colab": {
          "base_uri": "https://localhost:8080/"
        },
        "id": "6f8eb2c2",
        "outputId": "8d0fa63d-361f-4dec-9259-06ecd594d36a"
      },
      "outputs": [
        {
          "output_type": "execute_result",
          "data": {
            "text/plain": [
              "np.float64(23.692307692307693)"
            ]
          },
          "metadata": {},
          "execution_count": 31
        }
      ],
      "source": [
        "actual_pmf.mean()"
      ]
    },
    {
      "cell_type": "markdown",
      "id": "0d22bd69",
      "metadata": {
        "id": "0d22bd69"
      },
      "source": [
        "But if you survey a group of students, ask them how many students are in their classes, and compute the mean, the average is bigger.\n",
        "Let's see how much bigger.\n",
        "\n",
        "The following function takes the actual `Pmf` of class sizes and makes a new `Pmf` that represents the class sizes as seen by students.\n",
        "The quantities in the two distributions are the same, but the probabilities in the distribution are multiplied by the quantities, because in a class with size `x`, there are `x` students who observe that class.\n",
        "So the probability of observing a class is proportional to its size."
      ]
    },
    {
      "cell_type": "code",
      "execution_count": 32,
      "id": "3cef6126",
      "metadata": {
        "id": "3cef6126"
      },
      "outputs": [],
      "source": [
        "def bias(pmf, name):\n",
        "    # multiply each probability by class size\n",
        "    ps = pmf.ps * pmf.qs\n",
        "\n",
        "    # make a new Pmf and normalize it\n",
        "    new_pmf = Pmf(ps, pmf.qs, name=name)\n",
        "    new_pmf.normalize()\n",
        "    return new_pmf"
      ]
    },
    {
      "cell_type": "markdown",
      "id": "f1449478",
      "metadata": {
        "id": "f1449478"
      },
      "source": [
        "Now we can compute the biased `Pmf` as observed by students."
      ]
    },
    {
      "cell_type": "code",
      "execution_count": 33,
      "id": "6df3cccb",
      "metadata": {
        "id": "6df3cccb"
      },
      "outputs": [],
      "source": [
        "observed_pmf = bias(actual_pmf, name=\"observed\")"
      ]
    },
    {
      "cell_type": "markdown",
      "id": "e96df61b",
      "metadata": {
        "id": "e96df61b"
      },
      "source": [
        "Here's what the two distributions look like."
      ]
    },
    {
      "cell_type": "code",
      "execution_count": 34,
      "id": "1c2b81d9",
      "metadata": {
        "colab": {
          "base_uri": "https://localhost:8080/",
          "height": 838
        },
        "id": "1c2b81d9",
        "outputId": "7fad6f21-e67b-4e11-d778-4741abf0591d"
      },
      "outputs": [
        {
          "output_type": "display_data",
          "data": {
            "text/plain": [
              "<Figure size 1800x1050 with 1 Axes>"
            ],
            "image/png": "[encoded data removed]"
          },
          "metadata": {}
        }
      ],
      "source": [
        "from thinkstats import two_bar_plots\n",
        "\n",
        "two_bar_plots(actual_pmf, observed_pmf, width=2)\n",
        "decorate(xlabel=\"Class size\", ylabel=\"PMF\")"
      ]
    },
    {
      "cell_type": "markdown",
      "id": "2842ea59",
      "metadata": {
        "id": "2842ea59"
      },
      "source": [
        "In the observed distribution there are fewer small classes and more large ones.\n",
        "And the biased mean is 29.1, almost 25% higher than the actual mean."
      ]
    },
    {
      "cell_type": "code",
      "execution_count": 35,
      "id": "61623eb5",
      "metadata": {
        "colab": {
          "base_uri": "https://localhost:8080/"
        },
        "id": "61623eb5",
        "outputId": "30fe635e-8b97-4062-dcd2-f8ade83b6ac5"
      },
      "outputs": [
        {
          "output_type": "execute_result",
          "data": {
            "text/plain": [
              "np.float64(29.123376623376622)"
            ]
          },
          "metadata": {},
          "execution_count": 35
        }
      ],
      "source": [
        "observed_pmf.mean()"
      ]
    },
    {
      "cell_type": "markdown",
      "id": "d6820e00",
      "metadata": {
        "id": "d6820e00"
      },
      "source": [
        "It is also possible to invert this operation.\n",
        "Suppose you want to find the distribution of class sizes at a college, but you can't get reliable data.\n",
        "One option is to choose a random sample of students and ask how many students are in their classes.\n",
        "\n",
        "The result would be biased for the reasons we've just seen, but you can use it to estimate the actual distribution.\n",
        "Here's the function that unbiases a `Pmf` by dividing the probabilities by the sizes."
      ]
    },
    {
      "cell_type": "code",
      "execution_count": 36,
      "id": "4c52202b",
      "metadata": {
        "id": "4c52202b"
      },
      "outputs": [],
      "source": [
        "def unbias(pmf, name):\n",
        "    # divide each probability by class size\n",
        "    ps = pmf.ps / pmf.qs\n",
        "\n",
        "    new_pmf = Pmf(ps, pmf.qs, name=name)\n",
        "    new_pmf.normalize()\n",
        "    return new_pmf"
      ]
    },
    {
      "cell_type": "markdown",
      "id": "9728cc41",
      "metadata": {
        "id": "9728cc41"
      },
      "source": [
        "And here's the result."
      ]
    },
    {
      "cell_type": "code",
      "execution_count": 37,
      "id": "e69c6e88",
      "metadata": {
        "colab": {
          "base_uri": "https://localhost:8080/"
        },
        "id": "e69c6e88",
        "outputId": "209a1640-e4fb-4dde-e198-c36ebfe41784"
      },
      "outputs": [
        {
          "output_type": "execute_result",
          "data": {
            "text/plain": [
              "np.float64(23.692307692307693)"
            ]
          },
          "metadata": {},
          "execution_count": 37
        }
      ],
      "source": [
        "debiased_pmf = unbias(observed_pmf, \"debiased\")\n",
        "debiased_pmf.mean()"
      ]
    },
    {
      "cell_type": "markdown",
      "id": "d9b23744",
      "metadata": {
        "id": "d9b23744"
      },
      "source": [
        "The mean of the debiased `Pmf` is the same as the mean of the actual distribution we started with.\n",
        "\n",
        "If you think this example is interesting, you might like Chapter 2 of *Probably Overthinking It*, which includes this and several other examples of what's called the \"inspection paradox\"."
      ]
    },
    {
      "cell_type": "markdown",
      "id": "089ffa11",
      "metadata": {
        "id": "089ffa11"
      },
      "source": [
        "## NSFG Data\n",
        "\n",
        "In the previous chapter, we plotted frequency tables of pregnancy lengths for first babies and others.\n",
        "But the sizes of the groups are not the same, so we can't compare the frequency tables directly.\n",
        "Because PMFs are normalized, we can compare them.\n",
        "So let's load the NSFG data again and make `Pmf` objects to represent distributions of pregnancy lengths."
      ]
    },
    {
      "cell_type": "markdown",
      "id": "ead45565",
      "metadata": {
        "tags": [],
        "id": "ead45565"
      },
      "source": [
        "The following cells download the data files and install `statadict`, which we need to read the data."
      ]
    },
    {
      "cell_type": "code",
      "execution_count": 38,
      "id": "31216ce5",
      "metadata": {
        "tags": [],
        "colab": {
          "base_uri": "https://localhost:8080/"
        },
        "id": "31216ce5",
        "outputId": "d5a99954-f257-481b-81ba-ca62b97403a5"
      },
      "outputs": [
        {
          "output_type": "stream",
          "name": "stdout",
          "text": [
            "Collecting statadict\n",
            "  Downloading statadict-1.1.0-py3-none-any.whl.metadata (1.7 kB)\n",
            "Downloading statadict-1.1.0-py3-none-any.whl (9.4 kB)\n",
            "Installing collected packages: statadict\n",
            "Successfully installed statadict-1.1.0\n"
          ]
        }
      ],
      "source": [
        "try:\n",
        "    import statadict\n",
        "except ImportError:\n",
        "    %pip install statadict"
      ]
    },
    {
      "cell_type": "code",
      "execution_count": 39,
      "id": "7deaf238",
      "metadata": {
        "tags": [],
        "colab": {
          "base_uri": "https://localhost:8080/"
        },
        "id": "7deaf238",
        "outputId": "c3bb962b-d0c7-492e-cd86-8ac77e52b347"
      },
      "outputs": [
        {
          "output_type": "stream",
          "name": "stdout",
          "text": [
            "Downloaded nsfg.py\n",
            "Downloaded 2002FemPreg.dct\n",
            "Downloaded 2002FemPreg.dat.gz\n"
          ]
        }
      ],
      "source": [
        "download(\"https://github.com/AllenDowney/ThinkStats/raw/v3/nb/nsfg.py\")\n",
        "download(\"https://github.com/AllenDowney/ThinkStats/raw/v3/data/2002FemPreg.dct\")\n",
        "download(\"https://github.com/AllenDowney/ThinkStats/raw/v3/data/2002FemPreg.dat.gz\")"
      ]
    },
    {
      "cell_type": "markdown",
      "id": "1b94e467",
      "metadata": {
        "id": "1b94e467"
      },
      "source": [
        "The `nsfg` module provides a `read_nsfg_groups` function that reads the data, selects rows that represent live births, and partitions live births into first babies and others.\n",
        "It returns three `DataFrame` objects."
      ]
    },
    {
      "cell_type": "code",
      "execution_count": 40,
      "id": "4424061e",
      "metadata": {
        "id": "4424061e"
      },
      "outputs": [],
      "source": [
        "from nsfg import get_nsfg_groups\n",
        "\n",
        "live, firsts, others = get_nsfg_groups()"
      ]
    },
    {
      "cell_type": "markdown",
      "id": "db6ed39a",
      "metadata": {
        "id": "db6ed39a"
      },
      "source": [
        "We can use `firsts` and `others` to make a `Pmf` for the pregnancy lengths in each group."
      ]
    },
    {
      "cell_type": "code",
      "execution_count": 41,
      "id": "900062cf",
      "metadata": {
        "id": "900062cf"
      },
      "outputs": [],
      "source": [
        "first_pmf = Pmf.from_seq(firsts[\"prglngth\"], name=\"firsts\")\n",
        "other_pmf = Pmf.from_seq(others[\"prglngth\"], name=\"others\")"
      ]
    },
    {
      "cell_type": "markdown",
      "id": "26d3185a",
      "metadata": {
        "id": "26d3185a"
      },
      "source": [
        "Here are the PMFs for first babies and others, plotted as bar graphs."
      ]
    },
    {
      "cell_type": "code",
      "execution_count": 42,
      "id": "62c91cfa",
      "metadata": {
        "colab": {
          "base_uri": "https://localhost:8080/",
          "height": 838
        },
        "id": "62c91cfa",
        "outputId": "62f3d644-f2cf-4d39-85f8-72c65170c39d"
      },
      "outputs": [
        {
          "output_type": "display_data",
          "data": {
            "text/plain": [
              "<Figure size 1800x1050 with 1 Axes>"
            ],
            "image/png": "[encoded data removed]"
          },
          "metadata": {}
        }
      ],
      "source": [
        "two_bar_plots(first_pmf, other_pmf)\n",
        "decorate(xlabel=\"Weeks\", ylabel=\"Probability\", xlim=[20, 50])"
      ]
    },
    {
      "cell_type": "markdown",
      "id": "cc505018",
      "metadata": {
        "id": "cc505018"
      },
      "source": [
        "By plotting the PMF instead of the frequency table, we can compare the two distributions without being misled by the difference in sizes of the samples.\n",
        "Based on this figure, first babies seem to be less likely than others to arrive on time (week 39) and more likely to be late (weeks 41 and 42)."
      ]
    },
    {
      "cell_type": "markdown",
      "id": "8f2e5b2f",
      "metadata": {
        "id": "8f2e5b2f"
      },
      "source": [
        "## Other Visualizations\n",
        "\n",
        "FreqTabograms and PMFs are useful while you are exploring data and trying to identify patterns and relationships.\n",
        "Once you have an idea what is going on, a good next step is to design a visualization that makes the patterns you have identified as clear as possible.\n",
        "\n",
        "In the NSFG data, the biggest differences in the distributions are near the mode.\n",
        "So it makes sense to zoom in on that part of the graph, and select data from weeks 35 to 46.\n",
        "\n",
        "When we call a `Pmf` object like a function, we can look up a sequence of quantities and get a sequence of probabilities."
      ]
    },
    {
      "cell_type": "code",
      "execution_count": 43,
      "id": "9f134fc5",
      "metadata": {
        "colab": {
          "base_uri": "https://localhost:8080/"
        },
        "id": "9f134fc5",
        "outputId": "ae3da5de-7923-4545-954e-4094f66c58b0"
      },
      "outputs": [
        {
          "output_type": "execute_result",
          "data": {
            "text/plain": [
              "array([0.03602991, 0.03897575, 0.04713347, 0.06163608, 0.4790392 ,\n",
              "       0.12145932, 0.08157716, 0.04645366, 0.01971448, 0.00521187,\n",
              "       0.00135962])"
            ]
          },
          "metadata": {},
          "execution_count": 43
        }
      ],
      "source": [
        "weeks = range(35, 46)\n",
        "first_pmf(weeks)"
      ]
    },
    {
      "cell_type": "code",
      "execution_count": 44,
      "id": "e185339f",
      "metadata": {
        "colab": {
          "base_uri": "https://localhost:8080/"
        },
        "id": "e185339f",
        "outputId": "ce5245a6-5f4b-4ab5-cd81-2630d4cd263c"
      },
      "outputs": [
        {
          "output_type": "execute_result",
          "data": {
            "text/plain": [
              "array([0.03210137, 0.03146779, 0.05216473, 0.07074974, 0.54466737,\n",
              "       0.12249208, 0.04794087, 0.02597677, 0.01288279, 0.00485744,\n",
              "       0.00084477])"
            ]
          },
          "metadata": {},
          "execution_count": 44
        }
      ],
      "source": [
        "other_pmf(weeks)"
      ]
    },
    {
      "cell_type": "markdown",
      "id": "332a7946",
      "metadata": {
        "id": "332a7946"
      },
      "source": [
        "So we can compute the differences in the probabilities like this."
      ]
    },
    {
      "cell_type": "code",
      "execution_count": 45,
      "id": "36d0ba81",
      "metadata": {
        "colab": {
          "base_uri": "https://localhost:8080/"
        },
        "id": "36d0ba81",
        "outputId": "653ee717-03f5-4f5d-fea6-4296fe43b45a"
      },
      "outputs": [
        {
          "output_type": "execute_result",
          "data": {
            "text/plain": [
              "array([ 0.00392854,  0.00750796, -0.00503126, -0.00911366, -0.06562817,\n",
              "       -0.00103276,  0.03363629,  0.02047689,  0.00683169,  0.00035443,\n",
              "        0.00051485])"
            ]
          },
          "metadata": {},
          "execution_count": 45
        }
      ],
      "source": [
        "diffs = first_pmf(weeks) - other_pmf(weeks)\n",
        "diffs"
      ]
    },
    {
      "cell_type": "markdown",
      "id": "cdad3427",
      "metadata": {
        "id": "cdad3427"
      },
      "source": [
        "Here's what they look like, multiplied by 100 to express the differences in percentage points."
      ]
    },
    {
      "cell_type": "code",
      "execution_count": 46,
      "id": "3f40b276",
      "metadata": {
        "colab": {
          "base_uri": "https://localhost:8080/",
          "height": 838
        },
        "id": "3f40b276",
        "outputId": "85898f93-e8cb-4286-cc52-8640a695d5e6"
      },
      "outputs": [
        {
          "output_type": "display_data",
          "data": {
            "text/plain": [
              "<Figure size 1800x1050 with 1 Axes>"
            ],
            "image/png": "[encoded data removed]"
          },
          "metadata": {}
        }
      ],
      "source": [
        "plt.bar(weeks, diffs * 100)\n",
        "decorate(xlabel=\"Weeks\", ylabel=\"Difference (percentage points)\")"
      ]
    },
    {
      "cell_type": "markdown",
      "id": "11615bb9",
      "metadata": {
        "id": "11615bb9"
      },
      "source": [
        "This figure makes the pattern clearer: first babies are less likely to be born in week 39, and somewhat more likely to be born in weeks 41 and 42.\n",
        "\n",
        "When we see a pattern like this in a sample, we can't be sure it also holds in the population -- and we don't know whether we would see it in another sample from the same population.\n",
        "We'll revisit this question in [Chapter 9](chapter_hypothesis_testing)."
      ]
    },
    {
      "cell_type": "markdown",
      "id": "93d2684e",
      "metadata": {
        "id": "93d2684e"
      },
      "source": [
        "## Glossary\n",
        "\n",
        "There are not as many new terms in this chapter as in the previous chapters.\n",
        "\n",
        "-   **normalized:** A set of probabilities are normalized if they add up to 1.\n",
        "\n",
        "-   **probability mass function (PMF)**: A function that represents a distribution by mapping each quantity to its probability."
      ]
    },
    {
      "cell_type": "markdown",
      "id": "e818cde9",
      "metadata": {
        "collapsed": true,
        "id": "e818cde9"
      },
      "source": [
        "## Exercises\n",
        "\n",
        "For the exercises in this chapter, we'll use the NSFG respondent file, which contains one row for each respondent.\n",
        "Instructions for downloading the data are in the notebook for this chapter."
      ]
    },
    {
      "cell_type": "code",
      "execution_count": 47,
      "id": "461a9ed7",
      "metadata": {
        "tags": [],
        "colab": {
          "base_uri": "https://localhost:8080/"
        },
        "id": "461a9ed7",
        "outputId": "03e58fe3-e08d-44a6-e8e2-8f0219752f25"
      },
      "outputs": [
        {
          "output_type": "stream",
          "name": "stdout",
          "text": [
            "Downloaded 2002FemResp.dct\n",
            "Downloaded 2002FemResp.dat.gz\n"
          ]
        }
      ],
      "source": [
        "download(\"https://github.com/AllenDowney/ThinkStats/raw/v3/data/2002FemResp.dct\")\n",
        "download(\"https://github.com/AllenDowney/ThinkStats/raw/v3/data/2002FemResp.dat.gz\")"
      ]
    },
    {
      "cell_type": "markdown",
      "id": "7c7ce2b7",
      "metadata": {
        "tags": [],
        "id": "7c7ce2b7"
      },
      "source": [
        "The codebook for this dataset is at <https://ftp.cdc.gov/pub/Health_Statistics/NCHS/Dataset_Documentation/NSFG/Cycle6Codebook-Female.pdf>."
      ]
    },
    {
      "cell_type": "markdown",
      "id": "1b40d801",
      "metadata": {
        "id": "1b40d801"
      },
      "source": [
        "The `nsfg.py` module provides a function that reads the respondent file and returns a `DataFrame`."
      ]
    },
    {
      "cell_type": "code",
      "execution_count": 48,
      "id": "861e38b1",
      "metadata": {
        "colab": {
          "base_uri": "https://localhost:8080/"
        },
        "id": "861e38b1",
        "outputId": "7a33ba03-328b-4196-9156-2a5252fb1891"
      },
      "outputs": [
        {
          "output_type": "execute_result",
          "data": {
            "text/plain": [
              "(7643, 3092)"
            ]
          },
          "metadata": {},
          "execution_count": 48
        }
      ],
      "source": [
        "from nsfg import read_fem_resp\n",
        "\n",
        "resp = read_fem_resp()\n",
        "resp.shape"
      ]
    },
    {
      "cell_type": "markdown",
      "id": "5495601a",
      "metadata": {
        "id": "5495601a"
      },
      "source": [
        "This `DataFrame` contains 7643 rows and 3092 columns."
      ]
    },
    {
      "cell_type": "markdown",
      "id": "8e509710",
      "metadata": {
        "id": "8e509710"
      },
      "source": [
        "### Exercise 3.1\n",
        "\n",
        "Select the column `numbabes`, which records the \"number of babies born alive\" to each respondent.\n",
        "Make a `FreqTab` object and display the frequencies of the values in this column.\n",
        "Check that they are consistent with the frequencies in the code book.\n",
        "Are there any special values that should be replaced with `NaN`?\n",
        "\n",
        "Then make a `Pmf` object and plot it as a bar graph. Is the distribution symmetric, skewed to the left, or skewed to the right?"
      ]
    },
    {
      "cell_type": "code",
      "execution_count": 49,
      "id": "e4933509",
      "metadata": {
        "id": "e4933509"
      },
      "outputs": [],
      "source": [
        "# Solution goes here"
      ]
    },
    {
      "cell_type": "code",
      "execution_count": 50,
      "id": "92d10a12",
      "metadata": {
        "id": "92d10a12"
      },
      "outputs": [],
      "source": [
        "# Solution goes here"
      ]
    },
    {
      "cell_type": "code",
      "execution_count": 51,
      "id": "9f96f3d4",
      "metadata": {
        "colab": {
          "base_uri": "https://localhost:8080/",
          "height": 838
        },
        "id": "9f96f3d4",
        "outputId": "d2febe8e-c8bb-495b-8669-e28775372c0a"
      },
      "outputs": [
        {
          "output_type": "display_data",
          "data": {
            "text/plain": [
              "<Figure size 1800x1050 with 1 Axes>"
            ],
            "image/png": "[encoded data removed]"
          },
          "metadata": {}
        }
      ],
      "source": [
        "pmf.bar()\n",
        "decorate(xlabel=\"Number of babies\", ylabel=\"PMF\")"
      ]
    },
    {
      "cell_type": "code",
      "execution_count": 52,
      "id": "64937b8c",
      "metadata": {
        "id": "64937b8c"
      },
      "outputs": [],
      "source": [
        "# Solution goes here"
      ]
    },
    {
      "cell_type": "markdown",
      "id": "071ae7e7",
      "metadata": {
        "id": "071ae7e7"
      },
      "source": [
        "### Exercise 3.2\n",
        "\n",
        "In the same way that the mean identifies a central point in a distribution, and variance quantifies its spread, there is another statistic, called **skewness**, that indicates whether a distribution is skewed to the left or right.\n",
        "\n",
        "Given a sample, we can compute the skewness by computing the sum of the cubed deviations and dividing by the standard deviation cubed.\n",
        "For example, here's how we compute the skewness of `numbabes`.\n"
      ]
    },
    {
      "cell_type": "code",
      "execution_count": 53,
      "id": "f67d55f5",
      "metadata": {
        "id": "f67d55f5"
      },
      "outputs": [],
      "source": [
        "numbabes = resp[\"numbabes\"].replace(97, np.nan)"
      ]
    },
    {
      "cell_type": "code",
      "execution_count": 54,
      "id": "7e1b1e04",
      "metadata": {
        "colab": {
          "base_uri": "https://localhost:8080/"
        },
        "id": "7e1b1e04",
        "outputId": "3f185911-4f57-4ca3-f665-e6aafc360815"
      },
      "outputs": [
        {
          "output_type": "execute_result",
          "data": {
            "text/plain": [
              "np.float64(1.7018914266755378)"
            ]
          },
          "metadata": {},
          "execution_count": 54
        }
      ],
      "source": [
        "deviations = numbabes - numbabes.mean()\n",
        "skewness = np.mean(deviations**3) / numbabes.std(ddof=0) ** 3\n",
        "skewness"
      ]
    },
    {
      "cell_type": "markdown",
      "id": "79f68b36",
      "metadata": {
        "id": "79f68b36"
      },
      "source": [
        "A positive value indicates that a distribution is skewed to the right, and a negative value indicates that it is skewed to the left.\n",
        "\n",
        "If you are given a `Pmf`, rather than a sequence of values, you can compute skewness like this:\n",
        "\n",
        "1. Compute the deviation of each quantity in the `Pmf` from the mean.\n",
        "\n",
        "2. Cube the deviations, multiply by the probabilities in the `Pmf`, and add up the products.\n",
        "\n",
        "3. Divide the sum by the standard deviation cubed.\n",
        "\n",
        "Write a function called `pmf_skewness` that takes a `Pmf` object and returns its skewness."
      ]
    },
    {
      "cell_type": "code",
      "execution_count": 55,
      "id": "95e9d102",
      "metadata": {
        "id": "95e9d102"
      },
      "outputs": [],
      "source": [
        "# Solution goes here"
      ]
    },
    {
      "cell_type": "markdown",
      "id": "bbd5e64f",
      "metadata": {
        "id": "bbd5e64f"
      },
      "source": [
        "Use your function and the `Pmf` of `numbabes` to compute skewness, and confirm you get the same result we computed above."
      ]
    },
    {
      "cell_type": "code",
      "execution_count": 56,
      "id": "4e442b4b",
      "metadata": {
        "id": "4e442b4b"
      },
      "outputs": [],
      "source": [
        "# Solution goes here"
      ]
    },
    {
      "cell_type": "markdown",
      "id": "81e26051",
      "metadata": {
        "id": "81e26051"
      },
      "source": [
        "### Exercise 3.3\n",
        "\n",
        "Something like the class size paradox appears if you survey children and ask how many children are in their family.\n",
        "Families with many children are more likely to appear in your sample, and families with no children have no chance to be in the sample at all.\n",
        "\n",
        "From `resp`, select `numkdhh`, which records the number of children under 18 in each respondent's household.\n",
        "Make a `Pmf` of the values in this column.\n",
        "\n",
        "Use the `bias` function to compute the distribution we would see if we surveyed the children and asked them how many children under 18 (including themselves) are in their household.\n",
        "\n",
        "Plot the actual and biased distributions, and compute their means."
      ]
    },
    {
      "cell_type": "code",
      "execution_count": 57,
      "id": "8a263d8e",
      "metadata": {
        "id": "8a263d8e"
      },
      "outputs": [],
      "source": [
        "# Solution goes here"
      ]
    },
    {
      "cell_type": "code",
      "execution_count": 58,
      "id": "019396ef",
      "metadata": {
        "id": "019396ef"
      },
      "outputs": [],
      "source": [
        "# Solution goes here"
      ]
    },
    {
      "cell_type": "code",
      "execution_count": 59,
      "id": "064c0161",
      "metadata": {
        "id": "064c0161"
      },
      "outputs": [],
      "source": [
        "# Solution goes here"
      ]
    },
    {
      "cell_type": "code",
      "execution_count": 60,
      "id": "e0c4082f",
      "metadata": {
        "id": "e0c4082f"
      },
      "outputs": [],
      "source": [
        "# Solution goes here"
      ]
    },
    {
      "cell_type": "markdown",
      "id": "e27da3a4",
      "metadata": {
        "tags": [],
        "id": "e27da3a4"
      },
      "source": [
        "[Think Stats: Exploratory Data Analysis in Python, 3rd Edition](https://allendowney.github.io/ThinkStats/index.html)\n",
        "\n",
        "Copyright 2024 [Allen B. Downey](https://allendowney.com)\n",
        "\n",
        "Code license: [MIT License](https://mit-license.org/)\n",
        "\n",
        "Text license: [Creative Commons Attribution-NonCommercial-ShareAlike 4.0 International](https://creativecommons.org/licenses/by-nc-sa/4.0/)"
      ]
    }
  ],
  "metadata": {
    "celltoolbar": "Tags",
    "kernelspec": {
      "display_name": "Python 3 (ipykernel)",
      "language": "python",
      "name": "python3"
    },
    "language_info": {
      "codemirror_mode": {
        "name": "ipython",
        "version": 3
      },
      "file_extension": ".py",
      "mimetype": "text/x-python",
      "name": "python",
      "nbconvert_exporter": "python",
      "pygments_lexer": "ipython3",
      "version": "3.11.0"
    },
    "colab": {
      "provenance": []
    }
  },
  "nbformat": 4,
  "nbformat_minor": 5
}