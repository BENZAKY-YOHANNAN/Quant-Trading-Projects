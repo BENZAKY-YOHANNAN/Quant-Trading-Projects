{
  "nbformat": 4,
  "nbformat_minor": 0,
  "metadata": {
    "colab": {
      "provenance": [],
      "authorship_tag": "ABX9TyPhvvMnqwQYuKLK/X6uEM4S",
      "include_colab_link": true
    },
    "kernelspec": {
      "name": "python3",
      "display_name": "Python 3"
    },
    "language_info": {
      "name": "python"
    }
  },
  "cells": [
    {
      "cell_type": "markdown",
      "metadata": {
        "id": "view-in-github",
        "colab_type": "text"
      },
      "source": [
        "<a href=\"https://colab.research.google.com/github/BENZAKY-YOHANNAN/Quant-Trading-Projects/blob/main/Black_Scholes_Option_Pricing.ipynb\" target=\"_parent\"><img src=\"https://colab.research.google.com/assets/colab-badge.svg\" alt=\"Open In Colab\"/></a>"
      ]
    },
    {
      "cell_type": "code",
      "execution_count": 1,
      "metadata": {
        "id": "zOl8QZIyrZxv"
      },
      "outputs": [],
      "source": [
        "import math\n",
        "from scipy.stats import norm\n"
      ]
    },
    {
      "cell_type": "code",
      "source": [
        "S = 42\n",
        "K = 40\n",
        "T = 0.5\n",
        "r = 0.1\n",
        "vol = 0.2"
      ],
      "metadata": {
        "id": "bFuFEuZWrv0f"
      },
      "execution_count": 2,
      "outputs": []
    },
    {
      "cell_type": "code",
      "source": [
        "d1 = (math.log(S/K)+ (r + 0.5* vol**2)*T)/ (vol * math.sqrt(T))\n",
        "d2 = d1 - vol * math.sqrt(T)"
      ],
      "metadata": {
        "id": "wqLVKFsgs1rJ"
      },
      "execution_count": 3,
      "outputs": []
    },
    {
      "cell_type": "code",
      "source": [
        "C = S * norm.cdf(d1) - K * math.exp(-r * T) * norm.cdf(d2)\n",
        "P = K * math.exp(-r * T) * norm.cdf(-d2) - S * norm.cdf(-d1)"
      ],
      "metadata": {
        "id": "QLIjrKLY2Z70"
      },
      "execution_count": 4,
      "outputs": []
    },
    {
      "cell_type": "code",
      "source": [
        "print('The value of d1 is: ', round(d1, 4))\n",
        "print('The value of d2 is: ', round(d2, 4))\n",
        "print('The price of the call option is: $', round(C, 2))\n",
        "print('The price of the put option is: $', round(P, 2))"
      ],
      "metadata": {
        "id": "j4oVX3wb9Awy",
        "outputId": "2cb19e01-3401-4c70-ef9f-6db6cf7d04ab",
        "colab": {
          "base_uri": "https://localhost:8080/"
        }
      },
      "execution_count": 5,
      "outputs": [
        {
          "output_type": "stream",
          "name": "stdout",
          "text": [
            "The value of d1 is:  0.7693\n",
            "The value of d2 is:  0.6278\n",
            "The price of the call option is: $ 4.76\n",
            "The price of the put option is: $ 0.81\n"
          ]
        }
      ]
    }
  ]
}