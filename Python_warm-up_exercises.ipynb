{
 "cells": [
  {
   "cell_type": "code",
   "execution_count": 21,
   "id": "21381dbd-12fc-4c78-94a5-3a2f7fe141bc",
   "metadata": {},
   "outputs": [
    {
     "name": "stdout",
     "output_type": "stream",
     "text": [
      "Hello World\n"
     ]
    }
   ],
   "source": [
    "print (\"Hello World\")"
   ]
  },
  {
   "cell_type": "code",
   "execution_count": 22,
   "id": "a915ac7c-a854-40d0-8eea-afdf39decdb7",
   "metadata": {},
   "outputs": [
    {
     "name": "stdout",
     "output_type": "stream",
     "text": [
      "[5, 4, 3, 2, 1]\n"
     ]
    }
   ],
   "source": [
    "# List Exercise \n",
    "n = [1,2,3,4,5]\n",
    "print (n[::-1])"
   ]
  },
  {
   "cell_type": "code",
   "execution_count": 32,
   "id": "352ffb99-1815-44d7-8787-9970ce3cea2e",
   "metadata": {
    "scrolled": true
   },
   "outputs": [
    {
     "name": "stdout",
     "output_type": "stream",
     "text": [
      "{'apple': 'red', 'banana': 'yellow', 'grape': 'purple', 'orange': 'orange'}\n"
     ]
    }
   ],
   "source": [
    "# Dictionary exercise\n",
    "f = {\"apple\":\"red\",\"banana\":\"yellow\",\"grape\":\"purple\"}\n",
    "f[\"orange\"] = \"orange\"\n",
    "print (f)"
   ]
  },
  {
   "cell_type": "code",
   "execution_count": 30,
   "id": "5e002823-e3cd-44f2-b6e9-982a296ebdce",
   "metadata": {},
   "outputs": [
    {
     "name": "stdout",
     "output_type": "stream",
     "text": [
      "25\n"
     ]
    }
   ],
   "source": [
    "def square(x):\n",
    "    return x*x\n",
    "print (square(5))"
   ]
  },
  {
   "cell_type": "code",
   "execution_count": null,
   "id": "f2c02666-c616-4542-ad08-fca2b5395c19",
   "metadata": {},
   "outputs": [],
   "source": []
  }
 ],
 "metadata": {
  "kernelspec": {
   "display_name": "Python 3 (system-wide)",
   "language": "python",
   "name": "python3"
  },
  "language_info": {
   "codemirror_mode": {
    "name": "ipython",
    "version": 3
   },
   "file_extension": ".py",
   "mimetype": "text/x-python",
   "name": "python",
   "nbconvert_exporter": "python",
   "pygments_lexer": "ipython3",
   "version": "3.10.12"
  }
 },
 "nbformat": 4,
 "nbformat_minor": 5
}
